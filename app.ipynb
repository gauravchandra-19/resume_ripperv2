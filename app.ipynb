{
 "cells": [
  {
   "cell_type": "code",
   "execution_count": 1,
   "metadata": {},
   "outputs": [],
   "source": [
    "from pyresparser import ResumeParser\n",
    "import pandas as pd\n",
    "from operator import itemgetter"
   ]
  },
  {
   "cell_type": "code",
   "execution_count": 2,
   "metadata": {},
   "outputs": [],
   "source": [
    "import os\n",
    "os.chdir('C:\\\\Users\\\\n10301135\\\\OneDrive - Queensland University of Technology\\\\Datathon')"
   ]
  },
  {
   "cell_type": "code",
   "execution_count": 3,
   "metadata": {},
   "outputs": [],
   "source": [
    "resume_path = 'scripts/Gaurav Chandra Resume.pdf'\n",
    "job_file_path = 'scripts/Seek DS Detailed.csv'\n",
    "\n",
    "\n",
    "job_data = pd.read_csv(job_file_path)\n",
    "def extract_resume_data():\n",
    "    match_description = []\n",
    "    data = ResumeParser(resume_path).get_extracted_data()\n",
    "    for index, row in job_data.iterrows():\n",
    "        new_row = row.drop(labels=['Title', 'Company', 'Location', 'Date', 'Job Type', 'Description'])\n",
    "        job_skills = []\n",
    "        for column in new_row:\n",
    "            if isinstance(column, str):\n",
    "                job_skills.append(column)\n",
    "        if len(job_skills) > 0:\n",
    "            matched = set(data.get('skills')) & set(job_skills)\n",
    "            unmatched = set(job_skills) - set(data.get('skills'))\n",
    "            if len(matched) > 0:\n",
    "                match_description.append(\n",
    "                    [row['Title'], list(matched), list(unmatched), len(matched), (len(matched) / len(job_skills) * 100)])\n",
    "    match_description = sorted(match_description, key=itemgetter(4), reverse=True)\n",
    "    return pd.DataFrame(match_description, columns=['jobtitle', 'matched_skills', 'unmatched_skills', 'num_skills', 'matched_precentage'])"
   ]
  },
  {
   "cell_type": "code",
   "execution_count": 4,
   "metadata": {},
   "outputs": [
    {
     "name": "stderr",
     "output_type": "stream",
     "text": [
      "C:\\Anaconda3\\lib\\site-packages\\spacy\\util.py:275: UserWarning: [W031] Model 'en_training' (0.0.0) requires spaCy v2.1 and is incompatible with the current spaCy version (2.3.2). This may lead to unexpected results or runtime errors. To resolve this, download a newer compatible model or retrain your custom model with the current spaCy version. For more details and available updates, run: python -m spacy validate\n",
      "  warnings.warn(warn_msg)\n"
     ]
    }
   ],
   "source": [
    "result = extract_resume_data()"
   ]
  },
  {
   "cell_type": "code",
   "execution_count": 5,
   "metadata": {},
   "outputs": [
    {
     "data": {
      "text/html": [
       "<div>\n",
       "<style scoped>\n",
       "    .dataframe tbody tr th:only-of-type {\n",
       "        vertical-align: middle;\n",
       "    }\n",
       "\n",
       "    .dataframe tbody tr th {\n",
       "        vertical-align: top;\n",
       "    }\n",
       "\n",
       "    .dataframe thead th {\n",
       "        text-align: right;\n",
       "    }\n",
       "</style>\n",
       "<table border=\"1\" class=\"dataframe\">\n",
       "  <thead>\n",
       "    <tr style=\"text-align: right;\">\n",
       "      <th></th>\n",
       "      <th>jobtitle</th>\n",
       "      <th>matched_skills</th>\n",
       "      <th>unmatched_skills</th>\n",
       "      <th>num_skills</th>\n",
       "      <th>matched_precentage</th>\n",
       "    </tr>\n",
       "  </thead>\n",
       "  <tbody>\n",
       "    <tr>\n",
       "      <th>0</th>\n",
       "      <td>Senior Data Engineer</td>\n",
       "      <td>[Architecture]</td>\n",
       "      <td>[Enterprise]</td>\n",
       "      <td>1</td>\n",
       "      <td>50.000000</td>\n",
       "    </tr>\n",
       "    <tr>\n",
       "      <th>1</th>\n",
       "      <td>Consultant Technical Trainer (Analytics)</td>\n",
       "      <td>[Java, Python]</td>\n",
       "      <td>[C++, FinTech]</td>\n",
       "      <td>2</td>\n",
       "      <td>50.000000</td>\n",
       "    </tr>\n",
       "    <tr>\n",
       "      <th>2</th>\n",
       "      <td>Lead Quantitative Analyst / Data Scientist - B...</td>\n",
       "      <td>[Python, R]</td>\n",
       "      <td>[Processing, Government, ASAP]</td>\n",
       "      <td>2</td>\n",
       "      <td>40.000000</td>\n",
       "    </tr>\n",
       "    <tr>\n",
       "      <th>3</th>\n",
       "      <td>Senior Data Scientist | Contract | Iconic orga...</td>\n",
       "      <td>[Python, R]</td>\n",
       "      <td>[Finance, Alteryx, Keras, Matplotlib]</td>\n",
       "      <td>2</td>\n",
       "      <td>33.333333</td>\n",
       "    </tr>\n",
       "    <tr>\n",
       "      <th>4</th>\n",
       "      <td>Manager , Credit Risk (SME) - Data Science</td>\n",
       "      <td>[Architecture]</td>\n",
       "      <td>[Digital, IT]</td>\n",
       "      <td>1</td>\n",
       "      <td>33.333333</td>\n",
       "    </tr>\n",
       "    <tr>\n",
       "      <th>5</th>\n",
       "      <td>Data Engineer - AWS/Spark/Startup</td>\n",
       "      <td>[R]</td>\n",
       "      <td>[Learning, Cloud]</td>\n",
       "      <td>1</td>\n",
       "      <td>33.333333</td>\n",
       "    </tr>\n",
       "    <tr>\n",
       "      <th>6</th>\n",
       "      <td>Data Engineer</td>\n",
       "      <td>[Java, Database, Python]</td>\n",
       "      <td>[Kimball, Catalogue, Azure, Snowflake, Word, S...</td>\n",
       "      <td>3</td>\n",
       "      <td>30.000000</td>\n",
       "    </tr>\n",
       "    <tr>\n",
       "      <th>7</th>\n",
       "      <td>Data Scientist - Adelaide or Canberra</td>\n",
       "      <td>[Python]</td>\n",
       "      <td>[AWS, Processing, Advanced]</td>\n",
       "      <td>1</td>\n",
       "      <td>25.000000</td>\n",
       "    </tr>\n",
       "    <tr>\n",
       "      <th>8</th>\n",
       "      <td>Data Scientist | Contract | Iconic organisation |</td>\n",
       "      <td>[Python]</td>\n",
       "      <td>[Cloudera, Microsoft, Azure]</td>\n",
       "      <td>1</td>\n",
       "      <td>25.000000</td>\n",
       "    </tr>\n",
       "    <tr>\n",
       "      <th>9</th>\n",
       "      <td>Lead Data Analyst</td>\n",
       "      <td>[Operations, Python]</td>\n",
       "      <td>[Intelligence, Road, EDW, Azure, Analytics, SQL]</td>\n",
       "      <td>2</td>\n",
       "      <td>25.000000</td>\n",
       "    </tr>\n",
       "  </tbody>\n",
       "</table>\n",
       "</div>"
      ],
      "text/plain": [
       "                                            jobtitle  \\\n",
       "0                               Senior Data Engineer   \n",
       "1           Consultant Technical Trainer (Analytics)   \n",
       "2  Lead Quantitative Analyst / Data Scientist - B...   \n",
       "3  Senior Data Scientist | Contract | Iconic orga...   \n",
       "4         Manager , Credit Risk (SME) - Data Science   \n",
       "5                  Data Engineer - AWS/Spark/Startup   \n",
       "6                                      Data Engineer   \n",
       "7              Data Scientist - Adelaide or Canberra   \n",
       "8  Data Scientist | Contract | Iconic organisation |   \n",
       "9                                  Lead Data Analyst   \n",
       "\n",
       "             matched_skills  \\\n",
       "0            [Architecture]   \n",
       "1            [Java, Python]   \n",
       "2               [Python, R]   \n",
       "3               [Python, R]   \n",
       "4            [Architecture]   \n",
       "5                       [R]   \n",
       "6  [Java, Database, Python]   \n",
       "7                  [Python]   \n",
       "8                  [Python]   \n",
       "9      [Operations, Python]   \n",
       "\n",
       "                                    unmatched_skills  num_skills  \\\n",
       "0                                       [Enterprise]           1   \n",
       "1                                     [C++, FinTech]           2   \n",
       "2                     [Processing, Government, ASAP]           2   \n",
       "3              [Finance, Alteryx, Keras, Matplotlib]           2   \n",
       "4                                      [Digital, IT]           1   \n",
       "5                                  [Learning, Cloud]           1   \n",
       "6  [Kimball, Catalogue, Azure, Snowflake, Word, S...           3   \n",
       "7                        [AWS, Processing, Advanced]           1   \n",
       "8                       [Cloudera, Microsoft, Azure]           1   \n",
       "9   [Intelligence, Road, EDW, Azure, Analytics, SQL]           2   \n",
       "\n",
       "   matched_precentage  \n",
       "0           50.000000  \n",
       "1           50.000000  \n",
       "2           40.000000  \n",
       "3           33.333333  \n",
       "4           33.333333  \n",
       "5           33.333333  \n",
       "6           30.000000  \n",
       "7           25.000000  \n",
       "8           25.000000  \n",
       "9           25.000000  "
      ]
     },
     "execution_count": 5,
     "metadata": {},
     "output_type": "execute_result"
    }
   ],
   "source": [
    "#title, matched, unmatched, len_matched, percent\n",
    "result.head(10)"
   ]
  },
  {
   "cell_type": "code",
   "execution_count": 6,
   "metadata": {},
   "outputs": [],
   "source": [
    "import matplotlib.pyplot as plt\n",
    "import numpy as np"
   ]
  },
  {
   "cell_type": "code",
   "execution_count": 8,
   "metadata": {},
   "outputs": [],
   "source": [
    "from collections import Counter"
   ]
  },
  {
   "cell_type": "code",
   "execution_count": 19,
   "metadata": {},
   "outputs": [
    {
     "data": {
      "text/plain": [
       "57"
      ]
     },
     "execution_count": 19,
     "metadata": {},
     "output_type": "execute_result"
    }
   ],
   "source": [
    "len(result)"
   ]
  },
  {
   "cell_type": "code",
   "execution_count": 12,
   "metadata": {},
   "outputs": [
    {
     "data": {
      "text/plain": [
       "0                                 Senior Data Engineer\n",
       "1             Consultant Technical Trainer (Analytics)\n",
       "2    Lead Quantitative Analyst / Data Scientist - B...\n",
       "3    Senior Data Scientist | Contract | Iconic orga...\n",
       "4           Manager , Credit Risk (SME) - Data Science\n",
       "5                    Data Engineer - AWS/Spark/Startup\n",
       "6                                        Data Engineer\n",
       "7                Data Scientist - Adelaide or Canberra\n",
       "8    Data Scientist | Contract | Iconic organisation |\n",
       "9                                    Lead Data Analyst\n",
       "Name: jobtitle, dtype: object"
      ]
     },
     "execution_count": 12,
     "metadata": {},
     "output_type": "execute_result"
    }
   ],
   "source": [
    "result['jobtitle'].head(10)"
   ]
  },
  {
   "cell_type": "code",
   "execution_count": 26,
   "metadata": {},
   "outputs": [],
   "source": [
    "result.to_csv('resumeripper_result.csv')"
   ]
  },
  {
   "cell_type": "code",
   "execution_count": 13,
   "metadata": {},
   "outputs": [],
   "source": [
    "unmatched_skills = []\n",
    "for i in result['unmatched_skills'].values:\n",
    "    unmatched_skills += i"
   ]
  },
  {
   "cell_type": "code",
   "execution_count": 24,
   "metadata": {},
   "outputs": [],
   "source": [
    "topunmatchedskills = []\n",
    "for key, value in sorted(Counter(unmatched_skills).items(), key=lambda item: item[1], reverse=True)[:n]:\n",
    "    topunmatchedskills.append([key, int(value*100/57)])\n",
    "topunmatchedskills_df = pd.DataFrame(topunmatchedskills, columns=['skill', 'percent_alljobs'])"
   ]
  },
  {
   "cell_type": "code",
   "execution_count": 25,
   "metadata": {},
   "outputs": [
    {
     "data": {
      "text/html": [
       "<div>\n",
       "<style scoped>\n",
       "    .dataframe tbody tr th:only-of-type {\n",
       "        vertical-align: middle;\n",
       "    }\n",
       "\n",
       "    .dataframe tbody tr th {\n",
       "        vertical-align: top;\n",
       "    }\n",
       "\n",
       "    .dataframe thead th {\n",
       "        text-align: right;\n",
       "    }\n",
       "</style>\n",
       "<table border=\"1\" class=\"dataframe\">\n",
       "  <thead>\n",
       "    <tr style=\"text-align: right;\">\n",
       "      <th></th>\n",
       "      <th>skill</th>\n",
       "      <th>percent_alljobs</th>\n",
       "    </tr>\n",
       "  </thead>\n",
       "  <tbody>\n",
       "    <tr>\n",
       "      <th>0</th>\n",
       "      <td>SQL</td>\n",
       "      <td>33</td>\n",
       "    </tr>\n",
       "    <tr>\n",
       "      <th>1</th>\n",
       "      <td>AWS</td>\n",
       "      <td>28</td>\n",
       "    </tr>\n",
       "    <tr>\n",
       "      <th>2</th>\n",
       "      <td>Spark</td>\n",
       "      <td>22</td>\n",
       "    </tr>\n",
       "    <tr>\n",
       "      <th>3</th>\n",
       "      <td>Cloud</td>\n",
       "      <td>21</td>\n",
       "    </tr>\n",
       "    <tr>\n",
       "      <th>4</th>\n",
       "      <td>Learning</td>\n",
       "      <td>19</td>\n",
       "    </tr>\n",
       "  </tbody>\n",
       "</table>\n",
       "</div>"
      ],
      "text/plain": [
       "      skill  percent_alljobs\n",
       "0       SQL               33\n",
       "1       AWS               28\n",
       "2     Spark               22\n",
       "3     Cloud               21\n",
       "4  Learning               19"
      ]
     },
     "execution_count": 25,
     "metadata": {},
     "output_type": "execute_result"
    }
   ],
   "source": [
    "topunmatchedskills_df.head()"
   ]
  },
  {
   "cell_type": "code",
   "execution_count": 27,
   "metadata": {},
   "outputs": [],
   "source": [
    "topunmatchedskills_df.to_csv('unmatchedskills.csv')"
   ]
  },
  {
   "cell_type": "code",
   "execution_count": null,
   "metadata": {},
   "outputs": [],
   "source": []
  }
 ],
 "metadata": {
  "kernelspec": {
   "display_name": "Python 3",
   "language": "python",
   "name": "python3"
  },
  "language_info": {
   "codemirror_mode": {
    "name": "ipython",
    "version": 3
   },
   "file_extension": ".py",
   "mimetype": "text/x-python",
   "name": "python",
   "nbconvert_exporter": "python",
   "pygments_lexer": "ipython3",
   "version": "3.7.3"
  }
 },
 "nbformat": 4,
 "nbformat_minor": 4
}
